{
  "nbformat": 4,
  "nbformat_minor": 0,
  "metadata": {
    "colab": {
      "provenance": [],
      "authorship_tag": "ABX9TyMGDTf89qN7ceWA0TjQm9q3",
      "include_colab_link": true
    },
    "kernelspec": {
      "name": "python3",
      "display_name": "Python 3"
    },
    "language_info": {
      "name": "python"
    }
  },
  "cells": [
    {
      "cell_type": "markdown",
      "metadata": {
        "id": "view-in-github",
        "colab_type": "text"
      },
      "source": [
        "<a href=\"https://colab.research.google.com/github/lava311/lava311/blob/main/chat_bot.ipynb\" target=\"_parent\"><img src=\"https://colab.research.google.com/assets/colab-badge.svg\" alt=\"Open In Colab\"/></a>"
      ]
    },
    {
      "cell_type": "code",
      "execution_count": null,
      "metadata": {
        "colab": {
          "base_uri": "https://localhost:8080/"
        },
        "id": "9rXS08GbcgqY",
        "outputId": "2dca592a-c502-42d3-b5dc-27f8d35e2d1f"
      },
      "outputs": [
        {
          "output_type": "stream",
          "name": "stdout",
          "text": [
            "Welcome to the chatbot! I can help you with some basic queries.\n",
            "Type 'hi' or 'hello' to greet me, 'help' to know what I can do, 'quit' to exit.\n",
            "You: jello\n",
            "Bot: Sorry, I didn't understand that. Please try again!\n",
            "You: hello\n",
            "Bot: Hi! How can I assist you today?\n",
            "You: today weather\n",
            "Bot: The weather is sunny today! (Note: This is a static response and doesn't actually check the weather.)\n",
            "You: bye\n",
            "Bot: Sorry, I didn't understand that. Please try again!\n"
          ]
        }
      ],
      "source": [
        "def chatbot():\n",
        "    print(\"Welcome to the chatbot! I can help you with some basic queries.\")\n",
        "    print(\"Type 'hi' or 'hello' to greet me, 'help' to know what I can do, 'quit' to exit.\")\n",
        "\n",
        "    while True:\n",
        "        user_input = input(\"You: \").lower()\n",
        "\n",
        "        if user_input in ['hi', 'hello']:\n",
        "            print(\"Bot: Hi! How can I assist you today?\")\n",
        "        elif user_input == 'help':\n",
        "            print(\"Bot: I can help you with some basic queries. You can ask me about the weather, time, or just chat with me.\")\n",
        "        elif user_input == 'quit':\n",
        "            print(\"Bot: Goodbye! It was nice chatting with you.\")\n",
        "            break\n",
        "        elif 'weather' in user_input:\n",
        "            print(\"Bot: The weather is sunny today! (Note: This is a static response and doesn't actually check the weather.)\")\n",
        "        elif 'time' in user_input:\n",
        "            from datetime import datetime\n",
        "            now = datetime.now()\n",
        "            current_time = now.strftime(\"%H:%M:%S\")\n",
        "            print(f\"Bot: The current time is {current_time}.\")\n",
        "        else:\n",
        "            print(\"Bot: Sorry, I didn't understand that. Please try again!\")\n",
        "\n",
        "if __name__ == \"__main__\":\n",
        "    chatbot()"
      ]
    }
  ]
}