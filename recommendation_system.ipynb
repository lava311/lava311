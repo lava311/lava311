{
  "nbformat": 4,
  "nbformat_minor": 0,
  "metadata": {
    "colab": {
      "provenance": [],
      "authorship_tag": "ABX9TyMFgKPxemiqRn0kl2P/m1ol",
      "include_colab_link": true
    },
    "kernelspec": {
      "name": "python3",
      "display_name": "Python 3"
    },
    "language_info": {
      "name": "python"
    }
  },
  "cells": [
    {
      "cell_type": "markdown",
      "metadata": {
        "id": "view-in-github",
        "colab_type": "text"
      },
      "source": [
        "<a href=\"https://colab.research.google.com/github/lava311/lava311/blob/main/recommendation_system.ipynb\" target=\"_parent\"><img src=\"https://colab.research.google.com/assets/colab-badge.svg\" alt=\"Open In Colab\"/></a>"
      ]
    },
    {
      "cell_type": "code",
      "execution_count": 2,
      "metadata": {
        "id": "gdZfR8VMfprI",
        "outputId": "7af354fe-2aaf-4577-bd5b-a6a56729f20f",
        "colab": {
          "base_uri": "https://localhost:8080/"
        }
      },
      "outputs": [
        {
          "output_type": "stream",
          "name": "stdout",
          "text": [
            "Recommended items for user 1: Index([], dtype='int64', name='item_id')\n"
          ]
        }
      ],
      "source": [
        "import pandas as pd\n",
        "from sklearn.metrics.pairwise import cosine_similarity\n",
        "from scipy import sparse\n",
        "\n",
        "# Example user-item interaction data\n",
        "data = {\n",
        "    'user_id': [1, 1, 1, 2, 2, 2, 3, 3, 3],\n",
        "    'item_id': [1, 2, 3, 1, 2, 4, 2, 3, 4],\n",
        "    'rating': [5, 4, 3, 4, 3, 2, 3, 2, 1]\n",
        "}\n",
        "\n",
        "# Create a DataFrame from the data\n",
        "df = pd.DataFrame(data)\n",
        "\n",
        "# Create a user-item matrix\n",
        "user_item_matrix = df.pivot(index='user_id', columns='item_id', values='rating')\n",
        "\n",
        "# Fill missing values with 0\n",
        "user_item_matrix.fillna(0, inplace=True)\n",
        "\n",
        "# Calculate the similarity between users using cosine similarity\n",
        "user_similarity = cosine_similarity(user_item_matrix)\n",
        "\n",
        "# Create a function to recommend items to a user\n",
        "def recommend_items(user_id, num_recommendations):\n",
        "    # Get the similarity scores for the user\n",
        "    similarity_scores = user_similarity[user_id - 1]\n",
        "\n",
        "    # Get the top N similar users\n",
        "    top_similar_users = similarity_scores.argsort()[:-num_recommendations - 1:-1]\n",
        "\n",
        "    # Get the items rated by the top similar users\n",
        "    similar_items = user_item_matrix.iloc[top_similar_users]\n",
        "\n",
        "    # Get the items not rated by the user\n",
        "    unrated_items = similar_items.columns[~similar_items.columns.isin(user_item_matrix.iloc[user_id - 1].index)]\n",
        "\n",
        "    # Get the top N recommended items\n",
        "    recommended_items = unrated_items[:num_recommendations]\n",
        "\n",
        "    return recommended_items\n",
        "\n",
        "# Test the recommendation function\n",
        "user_id = 1\n",
        "num_recommendations = 2\n",
        "recommended_items = recommend_items(user_id, num_recommendations)\n",
        "print(f\"Recommended items for user {user_id}: {recommended_items}\")\n"
      ]
    }
  ]
}